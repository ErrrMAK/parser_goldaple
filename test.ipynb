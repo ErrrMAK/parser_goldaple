{
 "cells": [
  {
   "cell_type": "code",
   "execution_count": 25,
   "metadata": {},
   "outputs": [],
   "source": [
    "import requests\n",
    "import requests\n",
    "import json\n",
    "from bs4 import BeautifulSoup\n",
    "import re"
   ]
  },
  {
   "cell_type": "code",
   "execution_count": 43,
   "metadata": {},
   "outputs": [],
   "source": [
    "url = 'https://goldapple.ru/19000003031-go-bright-allover'\n",
    "\n",
    "cookies = {\n",
    "    'ga-lang': 'ru',\n",
    "    'client-store-code': 'default',\n",
    "    'advcake_track_id': '3b9c1bcd-964d-c0f6-c923-d1dd75380e9b',\n",
    "    'advcake_session_id': '25ce8150-b6fc-c7df-738b-7dd39ec43a4b',\n",
    "    'isAddressConfirmed': 'true',\n",
    "    'ga-plp-simple-layout': 'true',\n",
    "    'MCS_SESSID': 'uordlF1yBkAi1ddC%2BUQrf2HrNBoe7Iun',\n",
    "    'advcake_track_url': '%3D202405278vfaUWQkREQ0q9PIYJI1aON9J2FYforo5%2FX8k7pe4ry8imPXxKsHBP87zQvjhFnBjuBU%2Ft2sUt8PFtStdQ88O9vhDIToti3HhpJlTxmhUa9aUZri03Ad%2FjpVfC3N2gFUNnPZn49YZG3IpGfaaFsaUsRVzFoCtuxBMMol3MyCkLe7fZE0Pl50aTgCqEx3d4jkv6xVpCVhLqrDJbDgDizBpe%2BuOogOU%2BDfEALPQtXAU8GZ6Lf0a%2FkQJdzQzwz4WOyCW8hyLgysd8XVO%2FOg42l7Os89xB0f1lNUy05Qk9ES1QlK8QuOqvH%2FkXVUTg0T7R0M686Dh8K5Illbx0bDxeTjTk0K9xZ1vfORDQKwr%2Fiwx%2Fsifo%2FaE5XENRWmI2HMbjdM4QjC9iJbAGXAoiixuZ7JbGyXrQj8hogBhk0hNKLiPtEMn4Zm%2BlIcBMPAjvwAWPm83rLmmDzgY8t%2BUfrva0SFrzmAP5DlHntAzgFy%2BOJ%2F%2Fu%2BnXKAOnZUbjQqx%2FzNMchZfTyTgvdMKLZeVVQTGIaZemUYQNpF9nzs6XZWsq%2BGSi%2FDzGr6o72Dfz9ilod6ugfuWKA15AIV%2F6ZRMN%2FmoLKmuDSIMBbQFKRgjcHVCBTQsKGSxRQlxeMYPJrmq9hJtuFLjdWzvJwu9fWqQ4%2FMwRzHoJ574tVvtBW1BdMbxPAoYc%2Fqtf9oBspXLv4Q%3D',\n",
    "    'section_data_ids': '%7B%22geolocation%22%3A1717067288%2C%22adult_goods%22%3A1717067288%2C%22cart%22%3A1717067288%7D',\n",
    "}\n",
    "\n",
    "headers = {\n",
    "    'accept': 'text/html,application/xhtml+xml,application/xml;q=0.9,image/avif,image/webp,image/apng,*/*;q=0.8,application/signed-exchange;v=b3;q=0.7',\n",
    "    'accept-language': 'ru-RU,ru;q=0.9,en-US;q=0.8,en;q=0.7,sr;q=0.6',\n",
    "    'cache-control': 'max-age=0',\n",
    "    # 'cookie': 'ga-lang=ru; client-store-code=default; advcake_track_id=3b9c1bcd-964d-c0f6-c923-d1dd75380e9b; advcake_session_id=25ce8150-b6fc-c7df-738b-7dd39ec43a4b; isAddressConfirmed=true; ga-plp-simple-layout=true; MCS_SESSID=uordlF1yBkAi1ddC%2BUQrf2HrNBoe7Iun; advcake_track_url=%3D202405278vfaUWQkREQ0q9PIYJI1aON9J2FYforo5%2FX8k7pe4ry8imPXxKsHBP87zQvjhFnBjuBU%2Ft2sUt8PFtStdQ88O9vhDIToti3HhpJlTxmhUa9aUZri03Ad%2FjpVfC3N2gFUNnPZn49YZG3IpGfaaFsaUsRVzFoCtuxBMMol3MyCkLe7fZE0Pl50aTgCqEx3d4jkv6xVpCVhLqrDJbDgDizBpe%2BuOogOU%2BDfEALPQtXAU8GZ6Lf0a%2FkQJdzQzwz4WOyCW8hyLgysd8XVO%2FOg42l7Os89xB0f1lNUy05Qk9ES1QlK8QuOqvH%2FkXVUTg0T7R0M686Dh8K5Illbx0bDxeTjTk0K9xZ1vfORDQKwr%2Fiwx%2Fsifo%2FaE5XENRWmI2HMbjdM4QjC9iJbAGXAoiixuZ7JbGyXrQj8hogBhk0hNKLiPtEMn4Zm%2BlIcBMPAjvwAWPm83rLmmDzgY8t%2BUfrva0SFrzmAP5DlHntAzgFy%2BOJ%2F%2Fu%2BnXKAOnZUbjQqx%2FzNMchZfTyTgvdMKLZeVVQTGIaZemUYQNpF9nzs6XZWsq%2BGSi%2FDzGr6o72Dfz9ilod6ugfuWKA15AIV%2F6ZRMN%2FmoLKmuDSIMBbQFKRgjcHVCBTQsKGSxRQlxeMYPJrmq9hJtuFLjdWzvJwu9fWqQ4%2FMwRzHoJ574tVvtBW1BdMbxPAoYc%2Fqtf9oBspXLv4Q%3D; section_data_ids=%7B%22geolocation%22%3A1717067288%2C%22adult_goods%22%3A1717067288%2C%22cart%22%3A1717067288%7D',\n",
    "    'dnt': '1',\n",
    "    'priority': 'u=0, i',\n",
    "    'sec-ch-ua': '\"Google Chrome\";v=\"125\", \"Chromium\";v=\"125\", \"Not.A/Brand\";v=\"24\"',\n",
    "    'sec-ch-ua-mobile': '?0',\n",
    "    'sec-ch-ua-platform': '\"Windows\"',\n",
    "    'sec-fetch-dest': 'document',\n",
    "    'sec-fetch-mode': 'navigate',\n",
    "    'sec-fetch-site': 'same-origin',\n",
    "    'sec-fetch-user': '?1',\n",
    "    'upgrade-insecure-requests': '1',\n",
    "    'user-agent': 'Mozilla/5.0 (Windows NT 10.0; Win64; x64) AppleWebKit/537.36 (KHTML, like Gecko) Chrome/125.0.0.0 Safari/537.36',\n",
    "}\n",
    "\n",
    "# response = requests.get(url, cookies=cookies, headers=headers)\n",
    "\n",
    "# print(response.text)"
   ]
  },
  {
   "cell_type": "code",
   "execution_count": 44,
   "metadata": {},
   "outputs": [
    {
     "name": "stdout",
     "output_type": "stream",
     "text": [
      "Extracted JSON data saved to data.json\n"
     ]
    }
   ],
   "source": [
    "import requests\n",
    "import json\n",
    "import re\n",
    "from bs4 import BeautifulSoup\n",
    "\n",
    "def extract_and_save_json(url, json_filename, cookies=None, headers=None):\n",
    "    # Выполняем запрос\n",
    "    response = requests.get(url, cookies=cookies, headers=headers)\n",
    "    if response.status_code != 200:\n",
    "        raise Exception(f\"Failed to fetch URL {url}: Status code {response.status_code}\")\n",
    "    \n",
    "    # Используем BeautifulSoup для парсинга HTML\n",
    "    soup = BeautifulSoup(response.text, 'html.parser')\n",
    "    script_tags = soup.find_all('script')\n",
    "    \n",
    "    # Инициализируем словарь для хранения данных JSON\n",
    "    json_data = {}\n",
    "    \n",
    "    # Ищем в скриптах необходимые данные\n",
    "    pattern = re.compile(r\"window\\.serverCache\\['(\\w+)'\\]\\s*=\\s*({.*?});\", re.DOTALL)\n",
    "    \n",
    "    for script in script_tags:\n",
    "        if script.string:\n",
    "            matches = pattern.finditer(script.string)\n",
    "            for match in matches:\n",
    "                key = match.group(1)\n",
    "                try:\n",
    "                    # Преобразуем строку в JSON\n",
    "                    value = json.loads(match.group(2))\n",
    "                    json_data[key] = value\n",
    "                except json.JSONDecodeError as e:\n",
    "                    print(f\"Error decoding JSON for key {key}: {e}\")\n",
    "    \n",
    "    # Сохраняем все данные в файл JSON\n",
    "    with open(json_filename, 'w', encoding='utf-8') as f:\n",
    "        json.dump(json_data, f, ensure_ascii=False, indent=4)\n",
    "    \n",
    "    print(f\"Extracted JSON data saved to {json_filename}\")\n",
    "\n",
    "# Пример вызова функции\n",
    "json_filename = \"data.json\"\n",
    "\n",
    "extract_and_save_json(url, json_filename, cookies, headers)\n"
   ]
  }
 ],
 "metadata": {
  "kernelspec": {
   "display_name": "venv",
   "language": "python",
   "name": "python3"
  },
  "language_info": {
   "codemirror_mode": {
    "name": "ipython",
    "version": 3
   },
   "file_extension": ".py",
   "mimetype": "text/x-python",
   "name": "python",
   "nbconvert_exporter": "python",
   "pygments_lexer": "ipython3",
   "version": "3.12.3"
  }
 },
 "nbformat": 4,
 "nbformat_minor": 2
}
