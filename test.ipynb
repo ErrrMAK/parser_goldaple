{
 "cells": [
  {
   "cell_type": "code",
   "execution_count": 25,
   "metadata": {},
   "outputs": [],
   "source": [
    "import requests\n",
    "import requests\n",
    "import json\n",
    "from bs4 import BeautifulSoup\n",
    "import re"
   ]
  },
  {
   "cell_type": "code",
   "execution_count": 43,
   "metadata": {},
   "outputs": [],
   "source": [
    "url = 'https://goldapple.ru/19000003031-go-bright-allover'\n",
    "\n",
    "cookies = {\n",
    "    'ga-lang': 'ru',\n",
    "    'client-store-code': 'default',\n",
    "    'advcake_track_id': '3b9c1bcd-964d-c0f6-c923-d1dd75380e9b',\n",
    "    'advcake_session_id': '25ce8150-b6fc-c7df-738b-7dd39ec43a4b',\n",
    "    'isAddressConfirmed': 'true',\n",
    "    'ga-plp-simple-layout': 'true',\n",
    "    'MCS_SESSID': 'uordlF1yBkAi1ddC%2BUQrf2HrNBoe7Iun',\n",
    "    'advcake_track_url': '%3D202405278vfaUWQkREQ0q9PIYJI1aON9J2FYforo5%2FX8k7pe4ry8imPXxKsHBP87zQvjhFnBjuBU%2Ft2sUt8PFtStdQ88O9vhDIToti3HhpJlTxmhUa9aUZri03Ad%2FjpVfC3N2gFUNnPZn49YZG3IpGfaaFsaUsRVzFoCtuxBMMol3MyCkLe7fZE0Pl50aTgCqEx3d4jkv6xVpCVhLqrDJbDgDizBpe%2BuOogOU%2BDfEALPQtXAU8GZ6Lf0a%2FkQJdzQzwz4WOyCW8hyLgysd8XVO%2FOg42l7Os89xB0f1lNUy05Qk9ES1QlK8QuOqvH%2FkXVUTg0T7R0M686Dh8K5Illbx0bDxeTjTk0K9xZ1vfORDQKwr%2Fiwx%2Fsifo%2FaE5XENRWmI2HMbjdM4QjC9iJbAGXAoiixuZ7JbGyXrQj8hogBhk0hNKLiPtEMn4Zm%2BlIcBMPAjvwAWPm83rLmmDzgY8t%2BUfrva0SFrzmAP5DlHntAzgFy%2BOJ%2F%2Fu%2BnXKAOnZUbjQqx%2FzNMchZfTyTgvdMKLZeVVQTGIaZemUYQNpF9nzs6XZWsq%2BGSi%2FDzGr6o72Dfz9ilod6ugfuWKA15AIV%2F6ZRMN%2FmoLKmuDSIMBbQFKRgjcHVCBTQsKGSxRQlxeMYPJrmq9hJtuFLjdWzvJwu9fWqQ4%2FMwRzHoJ574tVvtBW1BdMbxPAoYc%2Fqtf9oBspXLv4Q%3D',\n",
    "    'section_data_ids': '%7B%22geolocation%22%3A1717067288%2C%22adult_goods%22%3A1717067288%2C%22cart%22%3A1717067288%7D',\n",
    "}\n",
    "\n",
    "headers = {\n",
    "    'accept': 'text/html,application/xhtml+xml,application/xml;q=0.9,image/avif,image/webp,image/apng,*/*;q=0.8,application/signed-exchange;v=b3;q=0.7',\n",
    "    'accept-language': 'ru-RU,ru;q=0.9,en-US;q=0.8,en;q=0.7,sr;q=0.6',\n",
    "    'cache-control': 'max-age=0',\n",
    "    # 'cookie': 'ga-lang=ru; client-store-code=default; advcake_track_id=3b9c1bcd-964d-c0f6-c923-d1dd75380e9b; advcake_session_id=25ce8150-b6fc-c7df-738b-7dd39ec43a4b; isAddressConfirmed=true; ga-plp-simple-layout=true; MCS_SESSID=uordlF1yBkAi1ddC%2BUQrf2HrNBoe7Iun; advcake_track_url=%3D202405278vfaUWQkREQ0q9PIYJI1aON9J2FYforo5%2FX8k7pe4ry8imPXxKsHBP87zQvjhFnBjuBU%2Ft2sUt8PFtStdQ88O9vhDIToti3HhpJlTxmhUa9aUZri03Ad%2FjpVfC3N2gFUNnPZn49YZG3IpGfaaFsaUsRVzFoCtuxBMMol3MyCkLe7fZE0Pl50aTgCqEx3d4jkv6xVpCVhLqrDJbDgDizBpe%2BuOogOU%2BDfEALPQtXAU8GZ6Lf0a%2FkQJdzQzwz4WOyCW8hyLgysd8XVO%2FOg42l7Os89xB0f1lNUy05Qk9ES1QlK8QuOqvH%2FkXVUTg0T7R0M686Dh8K5Illbx0bDxeTjTk0K9xZ1vfORDQKwr%2Fiwx%2Fsifo%2FaE5XENRWmI2HMbjdM4QjC9iJbAGXAoiixuZ7JbGyXrQj8hogBhk0hNKLiPtEMn4Zm%2BlIcBMPAjvwAWPm83rLmmDzgY8t%2BUfrva0SFrzmAP5DlHntAzgFy%2BOJ%2F%2Fu%2BnXKAOnZUbjQqx%2FzNMchZfTyTgvdMKLZeVVQTGIaZemUYQNpF9nzs6XZWsq%2BGSi%2FDzGr6o72Dfz9ilod6ugfuWKA15AIV%2F6ZRMN%2FmoLKmuDSIMBbQFKRgjcHVCBTQsKGSxRQlxeMYPJrmq9hJtuFLjdWzvJwu9fWqQ4%2FMwRzHoJ574tVvtBW1BdMbxPAoYc%2Fqtf9oBspXLv4Q%3D; section_data_ids=%7B%22geolocation%22%3A1717067288%2C%22adult_goods%22%3A1717067288%2C%22cart%22%3A1717067288%7D',\n",
    "    'dnt': '1',\n",
    "    'priority': 'u=0, i',\n",
    "    'sec-ch-ua': '\"Google Chrome\";v=\"125\", \"Chromium\";v=\"125\", \"Not.A/Brand\";v=\"24\"',\n",
    "    'sec-ch-ua-mobile': '?0',\n",
    "    'sec-ch-ua-platform': '\"Windows\"',\n",
    "    'sec-fetch-dest': 'document',\n",
    "    'sec-fetch-mode': 'navigate',\n",
    "    'sec-fetch-site': 'same-origin',\n",
    "    'sec-fetch-user': '?1',\n",
    "    'upgrade-insecure-requests': '1',\n",
    "    'user-agent': 'Mozilla/5.0 (Windows NT 10.0; Win64; x64) AppleWebKit/537.36 (KHTML, like Gecko) Chrome/125.0.0.0 Safari/537.36',\n",
    "}\n",
    "\n",
    "# response = requests.get(url, cookies=cookies, headers=headers)\n",
    "\n",
    "# print(response.text)"
   ]
  },
  {
   "cell_type": "code",
   "execution_count": 44,
   "metadata": {},
   "outputs": [
    {
     "name": "stdout",
     "output_type": "stream",
     "text": [
      "Extracted JSON data saved to data.json\n"
     ]
    }
   ],
   "source": [
    "import requests\n",
    "import json\n",
    "import re\n",
    "from bs4 import BeautifulSoup\n",
    "\n",
    "def extract_and_save_json(url, json_filename, cookies=None, headers=None):\n",
    "    # Выполняем запрос\n",
    "    r = requests.get(url, cookies=cookies, headers=headers)\n",
    "    if r.status_code != 200:\n",
    "        raise Exception(f\"Failed to fetch URL {url}: Status code {r.status_code}\")\n",
    "    \n",
    "    # Используем BeautifulSoup для парсинга HTML\n",
    "    soup = BeautifulSoup(r.text, 'html.parser')\n",
    "    script_tags = soup.find_all('script')\n",
    "    \n",
    "    # Инициализируем словарь для хранения данных JSON\n",
    "    json_data = {}\n",
    "    \n",
    "    # Ищем в скриптах необходимые данные\n",
    "    pattern = re.compile(r\"window\\.serverCache\\['(\\w+)'\\]\\s*=\\s*({.*?});\", re.DOTALL)\n",
    "    \n",
    "    for script in script_tags:\n",
    "        if script.string:\n",
    "            matches = pattern.finditer(script.string)\n",
    "            for match in matches:\n",
    "                key = match.group(1)\n",
    "                try:\n",
    "                    # Преобразуем строку в JSON\n",
    "                    value = json.loads(match.group(2))\n",
    "                    json_data[key] = value\n",
    "                except json.JSONDecodeError as e:\n",
    "                    print(f\"Error decoding JSON for key {key}: {e}\")\n",
    "    \n",
    "    # Сохраняем все данные в файл JSON\n",
    "    with open(json_filename, 'w', encoding='utf-8') as f:\n",
    "        json.dump(json_data, f, ensure_ascii=False, indent=4)\n",
    "    \n",
    "    print(f\"Extracted JSON data saved to {json_filename}\")\n",
    "\n",
    "# Пример вызова функции\n",
    "json_filename = \"data.json\"\n",
    "\n",
    "extract_and_save_json(url, json_filename, cookies, headers)\n"
   ]
  },
  {
   "cell_type": "code",
   "execution_count": 2,
   "metadata": {},
   "outputs": [],
   "source": [
    "import sqlite3\n",
    "\n",
    "def update_image(connection):\n",
    "    cursor = connection.cursor()\n",
    "    query = \"\"\"\n",
    "        UPDATE images SET new_link = NULL\n",
    "        \"\"\"\n",
    "    try:\n",
    "        cursor.execute(query)\n",
    "        connection.commit()  # Подтверждение изменений в базе данных\n",
    "    except sqlite3.Error as e:\n",
    "        print(f\"Произошла ошибка в update_image: {e}\")\n",
    "\n",
    "def main():\n",
    "    connection = sqlite3.connect('database/goldapple.db')\n",
    "    update_image(connection)\n",
    "    connection.close()\n",
    "\n",
    "if __name__ == '__main__':\n",
    "    main()"
   ]
  },
  {
   "cell_type": "code",
   "execution_count": 2,
   "metadata": {},
   "outputs": [
    {
     "ename": "IllegalCharacterError",
     "evalue": "Один штрих  – и любой макияж становится изысканным! \n Сияющие тени ILLUSION создают на веках невероятный призматический эффект -  взгляд становится моментально более открытым, а макияж глаз – эффектным и утонченным.\n Полупрозрачная текстура с пигментацией от легкой\u000bдо средней. \nГлиттеры разных оттенков и размеров  создают объемное голографическое сияние - словно россыпь драгоценных камней на веках!\n1. Наберите тени на кисть или аппликатор, нанесите  на веки, растушуйте.\n\n2. Тени можно наносить на подложку из плотных матовых оттенков или отдельно для легкого деликатного сияния. \n\n3. Наслаивая текстуру,  можно добиться большей интенсивности сияния.  cannot be used in worksheets.",
     "output_type": "error",
     "traceback": [
      "\u001b[1;31m---------------------------------------------------------------------------\u001b[0m",
      "\u001b[1;31mIllegalCharacterError\u001b[0m                     Traceback (most recent call last)",
      "Cell \u001b[1;32mIn[2], line 18\u001b[0m\n\u001b[0;32m     15\u001b[0m     connection\u001b[38;5;241m.\u001b[39mclose()\n\u001b[0;32m     17\u001b[0m \u001b[38;5;28;01mif\u001b[39;00m \u001b[38;5;18m__name__\u001b[39m \u001b[38;5;241m==\u001b[39m \u001b[38;5;124m'\u001b[39m\u001b[38;5;124m__main__\u001b[39m\u001b[38;5;124m'\u001b[39m:\n\u001b[1;32m---> 18\u001b[0m     \u001b[43mmain\u001b[49m\u001b[43m(\u001b[49m\u001b[43m)\u001b[49m\n",
      "Cell \u001b[1;32mIn[2], line 14\u001b[0m, in \u001b[0;36mmain\u001b[1;34m()\u001b[0m\n\u001b[0;32m     12\u001b[0m \u001b[38;5;28;01mdef\u001b[39;00m \u001b[38;5;21mmain\u001b[39m():\n\u001b[0;32m     13\u001b[0m     connection \u001b[38;5;241m=\u001b[39m sqlite3\u001b[38;5;241m.\u001b[39mconnect(\u001b[38;5;124m'\u001b[39m\u001b[38;5;124mdatabase/goldapple.db\u001b[39m\u001b[38;5;124m'\u001b[39m)\n\u001b[1;32m---> 14\u001b[0m     \u001b[43msave_to_excel\u001b[49m\u001b[43m(\u001b[49m\u001b[43mconnection\u001b[49m\u001b[43m,\u001b[49m\u001b[43m \u001b[49m\u001b[38;5;124;43m'\u001b[39;49m\u001b[38;5;124;43mresult/details_products.xlsx\u001b[39;49m\u001b[38;5;124;43m'\u001b[39;49m\u001b[43m)\u001b[49m\n\u001b[0;32m     15\u001b[0m     connection\u001b[38;5;241m.\u001b[39mclose()\n",
      "Cell \u001b[1;32mIn[2], line 10\u001b[0m, in \u001b[0;36msave_to_excel\u001b[1;34m(connection, filename)\u001b[0m\n\u001b[0;32m      6\u001b[0m query \u001b[38;5;241m=\u001b[39m \u001b[38;5;124m\"\"\"\u001b[39m\n\u001b[0;32m      7\u001b[0m \u001b[38;5;124m    SELECT * FROM details_products\u001b[39m\n\u001b[0;32m      8\u001b[0m \u001b[38;5;124m    \u001b[39m\u001b[38;5;124m\"\"\"\u001b[39m\n\u001b[0;32m      9\u001b[0m df \u001b[38;5;241m=\u001b[39m pd\u001b[38;5;241m.\u001b[39mread_sql_query(query, connection)\n\u001b[1;32m---> 10\u001b[0m \u001b[43mdf\u001b[49m\u001b[38;5;241;43m.\u001b[39;49m\u001b[43mto_excel\u001b[49m\u001b[43m(\u001b[49m\u001b[43mfilename\u001b[49m\u001b[43m,\u001b[49m\u001b[43m \u001b[49m\u001b[43mindex\u001b[49m\u001b[38;5;241;43m=\u001b[39;49m\u001b[38;5;28;43;01mFalse\u001b[39;49;00m\u001b[43m)\u001b[49m\n",
      "File \u001b[1;32mc:\\Users\\ErMAK\\PycharmProjects\\parser_goldaple\\venv\\Lib\\site-packages\\pandas\\util\\_decorators.py:333\u001b[0m, in \u001b[0;36mdeprecate_nonkeyword_arguments.<locals>.decorate.<locals>.wrapper\u001b[1;34m(*args, **kwargs)\u001b[0m\n\u001b[0;32m    327\u001b[0m \u001b[38;5;28;01mif\u001b[39;00m \u001b[38;5;28mlen\u001b[39m(args) \u001b[38;5;241m>\u001b[39m num_allow_args:\n\u001b[0;32m    328\u001b[0m     warnings\u001b[38;5;241m.\u001b[39mwarn(\n\u001b[0;32m    329\u001b[0m         msg\u001b[38;5;241m.\u001b[39mformat(arguments\u001b[38;5;241m=\u001b[39m_format_argument_list(allow_args)),\n\u001b[0;32m    330\u001b[0m         \u001b[38;5;167;01mFutureWarning\u001b[39;00m,\n\u001b[0;32m    331\u001b[0m         stacklevel\u001b[38;5;241m=\u001b[39mfind_stack_level(),\n\u001b[0;32m    332\u001b[0m     )\n\u001b[1;32m--> 333\u001b[0m \u001b[38;5;28;01mreturn\u001b[39;00m \u001b[43mfunc\u001b[49m\u001b[43m(\u001b[49m\u001b[38;5;241;43m*\u001b[39;49m\u001b[43margs\u001b[49m\u001b[43m,\u001b[49m\u001b[43m \u001b[49m\u001b[38;5;241;43m*\u001b[39;49m\u001b[38;5;241;43m*\u001b[39;49m\u001b[43mkwargs\u001b[49m\u001b[43m)\u001b[49m\n",
      "File \u001b[1;32mc:\\Users\\ErMAK\\PycharmProjects\\parser_goldaple\\venv\\Lib\\site-packages\\pandas\\core\\generic.py:2417\u001b[0m, in \u001b[0;36mNDFrame.to_excel\u001b[1;34m(self, excel_writer, sheet_name, na_rep, float_format, columns, header, index, index_label, startrow, startcol, engine, merge_cells, inf_rep, freeze_panes, storage_options, engine_kwargs)\u001b[0m\n\u001b[0;32m   2404\u001b[0m \u001b[38;5;28;01mfrom\u001b[39;00m \u001b[38;5;21;01mpandas\u001b[39;00m\u001b[38;5;21;01m.\u001b[39;00m\u001b[38;5;21;01mio\u001b[39;00m\u001b[38;5;21;01m.\u001b[39;00m\u001b[38;5;21;01mformats\u001b[39;00m\u001b[38;5;21;01m.\u001b[39;00m\u001b[38;5;21;01mexcel\u001b[39;00m \u001b[38;5;28;01mimport\u001b[39;00m ExcelFormatter\n\u001b[0;32m   2406\u001b[0m formatter \u001b[38;5;241m=\u001b[39m ExcelFormatter(\n\u001b[0;32m   2407\u001b[0m     df,\n\u001b[0;32m   2408\u001b[0m     na_rep\u001b[38;5;241m=\u001b[39mna_rep,\n\u001b[1;32m   (...)\u001b[0m\n\u001b[0;32m   2415\u001b[0m     inf_rep\u001b[38;5;241m=\u001b[39minf_rep,\n\u001b[0;32m   2416\u001b[0m )\n\u001b[1;32m-> 2417\u001b[0m \u001b[43mformatter\u001b[49m\u001b[38;5;241;43m.\u001b[39;49m\u001b[43mwrite\u001b[49m\u001b[43m(\u001b[49m\n\u001b[0;32m   2418\u001b[0m \u001b[43m    \u001b[49m\u001b[43mexcel_writer\u001b[49m\u001b[43m,\u001b[49m\n\u001b[0;32m   2419\u001b[0m \u001b[43m    \u001b[49m\u001b[43msheet_name\u001b[49m\u001b[38;5;241;43m=\u001b[39;49m\u001b[43msheet_name\u001b[49m\u001b[43m,\u001b[49m\n\u001b[0;32m   2420\u001b[0m \u001b[43m    \u001b[49m\u001b[43mstartrow\u001b[49m\u001b[38;5;241;43m=\u001b[39;49m\u001b[43mstartrow\u001b[49m\u001b[43m,\u001b[49m\n\u001b[0;32m   2421\u001b[0m \u001b[43m    \u001b[49m\u001b[43mstartcol\u001b[49m\u001b[38;5;241;43m=\u001b[39;49m\u001b[43mstartcol\u001b[49m\u001b[43m,\u001b[49m\n\u001b[0;32m   2422\u001b[0m \u001b[43m    \u001b[49m\u001b[43mfreeze_panes\u001b[49m\u001b[38;5;241;43m=\u001b[39;49m\u001b[43mfreeze_panes\u001b[49m\u001b[43m,\u001b[49m\n\u001b[0;32m   2423\u001b[0m \u001b[43m    \u001b[49m\u001b[43mengine\u001b[49m\u001b[38;5;241;43m=\u001b[39;49m\u001b[43mengine\u001b[49m\u001b[43m,\u001b[49m\n\u001b[0;32m   2424\u001b[0m \u001b[43m    \u001b[49m\u001b[43mstorage_options\u001b[49m\u001b[38;5;241;43m=\u001b[39;49m\u001b[43mstorage_options\u001b[49m\u001b[43m,\u001b[49m\n\u001b[0;32m   2425\u001b[0m \u001b[43m    \u001b[49m\u001b[43mengine_kwargs\u001b[49m\u001b[38;5;241;43m=\u001b[39;49m\u001b[43mengine_kwargs\u001b[49m\u001b[43m,\u001b[49m\n\u001b[0;32m   2426\u001b[0m \u001b[43m\u001b[49m\u001b[43m)\u001b[49m\n",
      "File \u001b[1;32mc:\\Users\\ErMAK\\PycharmProjects\\parser_goldaple\\venv\\Lib\\site-packages\\pandas\\io\\formats\\excel.py:952\u001b[0m, in \u001b[0;36mExcelFormatter.write\u001b[1;34m(self, writer, sheet_name, startrow, startcol, freeze_panes, engine, storage_options, engine_kwargs)\u001b[0m\n\u001b[0;32m    949\u001b[0m     need_save \u001b[38;5;241m=\u001b[39m \u001b[38;5;28;01mTrue\u001b[39;00m\n\u001b[0;32m    951\u001b[0m \u001b[38;5;28;01mtry\u001b[39;00m:\n\u001b[1;32m--> 952\u001b[0m     \u001b[43mwriter\u001b[49m\u001b[38;5;241;43m.\u001b[39;49m\u001b[43m_write_cells\u001b[49m\u001b[43m(\u001b[49m\n\u001b[0;32m    953\u001b[0m \u001b[43m        \u001b[49m\u001b[43mformatted_cells\u001b[49m\u001b[43m,\u001b[49m\n\u001b[0;32m    954\u001b[0m \u001b[43m        \u001b[49m\u001b[43msheet_name\u001b[49m\u001b[43m,\u001b[49m\n\u001b[0;32m    955\u001b[0m \u001b[43m        \u001b[49m\u001b[43mstartrow\u001b[49m\u001b[38;5;241;43m=\u001b[39;49m\u001b[43mstartrow\u001b[49m\u001b[43m,\u001b[49m\n\u001b[0;32m    956\u001b[0m \u001b[43m        \u001b[49m\u001b[43mstartcol\u001b[49m\u001b[38;5;241;43m=\u001b[39;49m\u001b[43mstartcol\u001b[49m\u001b[43m,\u001b[49m\n\u001b[0;32m    957\u001b[0m \u001b[43m        \u001b[49m\u001b[43mfreeze_panes\u001b[49m\u001b[38;5;241;43m=\u001b[39;49m\u001b[43mfreeze_panes\u001b[49m\u001b[43m,\u001b[49m\n\u001b[0;32m    958\u001b[0m \u001b[43m    \u001b[49m\u001b[43m)\u001b[49m\n\u001b[0;32m    959\u001b[0m \u001b[38;5;28;01mfinally\u001b[39;00m:\n\u001b[0;32m    960\u001b[0m     \u001b[38;5;66;03m# make sure to close opened file handles\u001b[39;00m\n\u001b[0;32m    961\u001b[0m     \u001b[38;5;28;01mif\u001b[39;00m need_save:\n",
      "File \u001b[1;32mc:\\Users\\ErMAK\\PycharmProjects\\parser_goldaple\\venv\\Lib\\site-packages\\pandas\\io\\excel\\_openpyxl.py:490\u001b[0m, in \u001b[0;36mOpenpyxlWriter._write_cells\u001b[1;34m(self, cells, sheet_name, startrow, startcol, freeze_panes)\u001b[0m\n\u001b[0;32m    486\u001b[0m \u001b[38;5;28;01mfor\u001b[39;00m cell \u001b[38;5;129;01min\u001b[39;00m cells:\n\u001b[0;32m    487\u001b[0m     xcell \u001b[38;5;241m=\u001b[39m wks\u001b[38;5;241m.\u001b[39mcell(\n\u001b[0;32m    488\u001b[0m         row\u001b[38;5;241m=\u001b[39mstartrow \u001b[38;5;241m+\u001b[39m cell\u001b[38;5;241m.\u001b[39mrow \u001b[38;5;241m+\u001b[39m \u001b[38;5;241m1\u001b[39m, column\u001b[38;5;241m=\u001b[39mstartcol \u001b[38;5;241m+\u001b[39m cell\u001b[38;5;241m.\u001b[39mcol \u001b[38;5;241m+\u001b[39m \u001b[38;5;241m1\u001b[39m\n\u001b[0;32m    489\u001b[0m     )\n\u001b[1;32m--> 490\u001b[0m     \u001b[43mxcell\u001b[49m\u001b[38;5;241;43m.\u001b[39;49m\u001b[43mvalue\u001b[49m, fmt \u001b[38;5;241m=\u001b[39m \u001b[38;5;28mself\u001b[39m\u001b[38;5;241m.\u001b[39m_value_with_fmt(cell\u001b[38;5;241m.\u001b[39mval)\n\u001b[0;32m    491\u001b[0m     \u001b[38;5;28;01mif\u001b[39;00m fmt:\n\u001b[0;32m    492\u001b[0m         xcell\u001b[38;5;241m.\u001b[39mnumber_format \u001b[38;5;241m=\u001b[39m fmt\n",
      "File \u001b[1;32mc:\\Users\\ErMAK\\PycharmProjects\\parser_goldaple\\venv\\Lib\\site-packages\\openpyxl\\cell\\cell.py:218\u001b[0m, in \u001b[0;36mCell.value\u001b[1;34m(self, value)\u001b[0m\n\u001b[0;32m    215\u001b[0m \u001b[38;5;129m@value\u001b[39m\u001b[38;5;241m.\u001b[39msetter\n\u001b[0;32m    216\u001b[0m \u001b[38;5;28;01mdef\u001b[39;00m \u001b[38;5;21mvalue\u001b[39m(\u001b[38;5;28mself\u001b[39m, value):\n\u001b[0;32m    217\u001b[0m \u001b[38;5;250m    \u001b[39m\u001b[38;5;124;03m\"\"\"Set the value and infer type and display options.\"\"\"\u001b[39;00m\n\u001b[1;32m--> 218\u001b[0m     \u001b[38;5;28;43mself\u001b[39;49m\u001b[38;5;241;43m.\u001b[39;49m\u001b[43m_bind_value\u001b[49m\u001b[43m(\u001b[49m\u001b[43mvalue\u001b[49m\u001b[43m)\u001b[49m\n",
      "File \u001b[1;32mc:\\Users\\ErMAK\\PycharmProjects\\parser_goldaple\\venv\\Lib\\site-packages\\openpyxl\\cell\\cell.py:197\u001b[0m, in \u001b[0;36mCell._bind_value\u001b[1;34m(self, value)\u001b[0m\n\u001b[0;32m    194\u001b[0m         \u001b[38;5;28mself\u001b[39m\u001b[38;5;241m.\u001b[39mnumber_format \u001b[38;5;241m=\u001b[39m get_time_format(t)\n\u001b[0;32m    196\u001b[0m \u001b[38;5;28;01melif\u001b[39;00m dt \u001b[38;5;241m==\u001b[39m \u001b[38;5;124m\"\u001b[39m\u001b[38;5;124ms\u001b[39m\u001b[38;5;124m\"\u001b[39m \u001b[38;5;129;01mand\u001b[39;00m \u001b[38;5;129;01mnot\u001b[39;00m \u001b[38;5;28misinstance\u001b[39m(value, CellRichText):\n\u001b[1;32m--> 197\u001b[0m     value \u001b[38;5;241m=\u001b[39m \u001b[38;5;28;43mself\u001b[39;49m\u001b[38;5;241;43m.\u001b[39;49m\u001b[43mcheck_string\u001b[49m\u001b[43m(\u001b[49m\u001b[43mvalue\u001b[49m\u001b[43m)\u001b[49m\n\u001b[0;32m    198\u001b[0m     \u001b[38;5;28;01mif\u001b[39;00m \u001b[38;5;28mlen\u001b[39m(value) \u001b[38;5;241m>\u001b[39m \u001b[38;5;241m1\u001b[39m \u001b[38;5;129;01mand\u001b[39;00m value\u001b[38;5;241m.\u001b[39mstartswith(\u001b[38;5;124m\"\u001b[39m\u001b[38;5;124m=\u001b[39m\u001b[38;5;124m\"\u001b[39m):\n\u001b[0;32m    199\u001b[0m         \u001b[38;5;28mself\u001b[39m\u001b[38;5;241m.\u001b[39mdata_type \u001b[38;5;241m=\u001b[39m \u001b[38;5;124m'\u001b[39m\u001b[38;5;124mf\u001b[39m\u001b[38;5;124m'\u001b[39m\n",
      "File \u001b[1;32mc:\\Users\\ErMAK\\PycharmProjects\\parser_goldaple\\venv\\Lib\\site-packages\\openpyxl\\cell\\cell.py:165\u001b[0m, in \u001b[0;36mCell.check_string\u001b[1;34m(self, value)\u001b[0m\n\u001b[0;32m    163\u001b[0m value \u001b[38;5;241m=\u001b[39m value[:\u001b[38;5;241m32767\u001b[39m]\n\u001b[0;32m    164\u001b[0m \u001b[38;5;28;01mif\u001b[39;00m \u001b[38;5;28mnext\u001b[39m(ILLEGAL_CHARACTERS_RE\u001b[38;5;241m.\u001b[39mfinditer(value), \u001b[38;5;28;01mNone\u001b[39;00m):\n\u001b[1;32m--> 165\u001b[0m     \u001b[38;5;28;01mraise\u001b[39;00m IllegalCharacterError(\u001b[38;5;124mf\u001b[39m\u001b[38;5;124m\"\u001b[39m\u001b[38;5;132;01m{\u001b[39;00mvalue\u001b[38;5;132;01m}\u001b[39;00m\u001b[38;5;124m cannot be used in worksheets.\u001b[39m\u001b[38;5;124m\"\u001b[39m)\n\u001b[0;32m    166\u001b[0m \u001b[38;5;28;01mreturn\u001b[39;00m value\n",
      "\u001b[1;31mIllegalCharacterError\u001b[0m: Один штрих  – и любой макияж становится изысканным! \n Сияющие тени ILLUSION создают на веках невероятный призматический эффект -  взгляд становится моментально более открытым, а макияж глаз – эффектным и утонченным.\n Полупрозрачная текстура с пигментацией от легкой\u000bдо средней. \nГлиттеры разных оттенков и размеров  создают объемное голографическое сияние - словно россыпь драгоценных камней на веках!\n1. Наберите тени на кисть или аппликатор, нанесите  на веки, растушуйте.\n\n2. Тени можно наносить на подложку из плотных матовых оттенков или отдельно для легкого деликатного сияния. \n\n3. Наслаивая текстуру,  можно добиться большей интенсивности сияния.  cannot be used in worksheets."
     ]
    }
   ],
   "source": [
    "# сохранить в эксель таблицу из базы images\n",
    "import sqlite3\n",
    "import pandas as pd\n",
    "\n",
    "def save_to_excel(connection, filename):\n",
    "    query = \"\"\"\n",
    "        SELECT * FROM details_products\n",
    "        \"\"\"\n",
    "    df = pd.read_sql_query(query, connection)\n",
    "    df.to_excel(filename, index=False)\n",
    "\n",
    "def main():\n",
    "    connection = sqlite3.connect('database/goldapple.db')\n",
    "    save_to_excel(connection, 'result/details_products.xlsx')\n",
    "    connection.close()\n",
    "\n",
    "if __name__ == '__main__':\n",
    "    main()"
   ]
  }
 ],
 "metadata": {
  "kernelspec": {
   "display_name": "venv",
   "language": "python",
   "name": "python3"
  },
  "language_info": {
   "codemirror_mode": {
    "name": "ipython",
    "version": 3
   },
   "file_extension": ".py",
   "mimetype": "text/x-python",
   "name": "python",
   "nbconvert_exporter": "python",
   "pygments_lexer": "ipython3",
   "version": "3.12.3"
  }
 },
 "nbformat": 4,
 "nbformat_minor": 2
}
